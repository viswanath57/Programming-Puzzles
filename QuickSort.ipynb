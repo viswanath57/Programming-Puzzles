{
 "cells": [
  {
   "cell_type": "code",
   "execution_count": 4,
   "metadata": {},
   "outputs": [],
   "source": [
    "def swap(a,b):\n",
    "    t = a\n",
    "    a = b\n",
    "    b = t\n",
    "    return(a,b)\n"
   ]
  },
  {
   "cell_type": "code",
   "execution_count": 61,
   "metadata": {},
   "outputs": [
    {
     "data": {
      "text/plain": [
       "[-3, -3, 2, 3, 7]"
      ]
     },
     "execution_count": 61,
     "metadata": {},
     "output_type": "execute_result"
    }
   ],
   "source": [
    "\n",
    "def partition(alist):\n",
    "    sidx = 0\n",
    "    eidx = len(alist)\n",
    "    x = alist[eidx-1] \n",
    "    i = -1 # This is the place before which all values are less than pivot value; in the begging nothing is behid pivot value\n",
    "    for j in range( eidx -1 ):\n",
    "        if alist[j] <= x: # If alist[j] less than pivot value push it back\n",
    "            i = i + 1     \n",
    "            # Given that i found some value which is less than pivot value, I am going to swap value which is at j\n",
    "            # with value which is at i+1\n",
    "            (alist[i], alist[j]) = swap(alist[i], alist[j])\n",
    "    (alist[i+1], alist[eidx-1]) = swap(alist[i+1], alist[eidx-1])\n",
    "    return  i+1\n",
    "\n",
    "def quicksort(alist):\n",
    "    if len(alist) <= 1:\n",
    "        return(alist)\n",
    "    pidx = partition(alist)\n",
    "    le = quicksort(alist[0:pidx])\n",
    "    ri = quicksort(alist[pidx+1:])\n",
    "    return le + [alist[pidx]] + ri\n",
    "\n",
    "quicksort([3,-3,-3,7,2])"
   ]
  }
 ],
 "metadata": {
  "kernelspec": {
   "display_name": "Python [default]",
   "language": "python",
   "name": "python3"
  },
  "language_info": {
   "codemirror_mode": {
    "name": "ipython",
    "version": 3
   },
   "file_extension": ".py",
   "mimetype": "text/x-python",
   "name": "python",
   "nbconvert_exporter": "python",
   "pygments_lexer": "ipython3",
   "version": "3.6.3"
  }
 },
 "nbformat": 4,
 "nbformat_minor": 2
}
