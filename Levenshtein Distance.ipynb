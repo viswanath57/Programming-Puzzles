{
 "cells": [
  {
   "cell_type": "markdown",
   "metadata": {},
   "source": [
    "##### Levenshtein distance (LD) is a measure of the similarity between two strings.\n",
    "\n",
    "Please refer https://people.cs.pitt.edu/~kirk/cs1501/Pruhs/Spring2006/assignments/editdistance/Levenshtein%20Distance.htm for exact algorithm\n"
   ]
  },
  {
   "cell_type": "code",
   "execution_count": 12,
   "metadata": {},
   "outputs": [
    {
     "data": {
      "text/plain": [
       "array([[ 0.,  1.,  2.,  3.,  4.,  5.],\n",
       "       [ 1.,  0.,  1.,  2.,  3.,  4.],\n",
       "       [ 2.,  1.,  1.,  2.,  3.,  4.],\n",
       "       [ 3.,  2.,  2.,  1.,  2.,  3.],\n",
       "       [ 4.,  3.,  3.,  2.,  1.,  2.],\n",
       "       [ 5.,  4.,  4.,  3.,  2.,  1.],\n",
       "       [ 6.,  5.,  5.,  4.,  3.,  2.]])"
      ]
     },
     "execution_count": 12,
     "metadata": {},
     "output_type": "execute_result"
    }
   ],
   "source": [
    "import numpy as np\n",
    "\n",
    "Seq1 = 'GAMBOL'\n",
    "Seq2 = 'GUMBO'\n",
    "\n",
    "D = np.zeros((len(Seq1)+1, len(Seq2)+1 ))\n",
    "for i in range( len(Seq1) + 1 ):\n",
    "    D[i, 0] = i\n",
    "for j in range( len(Seq2) + 1 ):\n",
    "    D[0, j] = j\n",
    "\n",
    "for i in range(1, len(Seq1)+1 ):\n",
    "    for j in range(1, len(Seq2)+1 ):\n",
    "        cost_ij = 0\n",
    "        if Seq1[i-1] == Seq2[j-1]:\n",
    "            cost_ij = 0\n",
    "        else:\n",
    "            cost_ij = 1\n",
    "        D[i, j] = np.min([ D[i-1, j-1] + cost_ij, D[i-1, j] + 1, D[i, j-1] + 1] )\n",
    "D"
   ]
  }
 ],
 "metadata": {
  "kernelspec": {
   "display_name": "Python [default]",
   "language": "python",
   "name": "python3"
  },
  "language_info": {
   "codemirror_mode": {
    "name": "ipython",
    "version": 3
   },
   "file_extension": ".py",
   "mimetype": "text/x-python",
   "name": "python",
   "nbconvert_exporter": "python",
   "pygments_lexer": "ipython3",
   "version": "3.6.3"
  }
 },
 "nbformat": 4,
 "nbformat_minor": 2
}
