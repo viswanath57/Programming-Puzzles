{
 "cells": [
  {
   "cell_type": "code",
   "execution_count": 1,
   "metadata": {},
   "outputs": [],
   "source": [
    "import numpy as np"
   ]
  },
  {
   "cell_type": "code",
   "execution_count": 4,
   "metadata": {},
   "outputs": [
    {
     "data": {
      "text/plain": [
       "(array([[ 0.,  0.,  0.,  0.,  0.,  0.],\n",
       "        [ 0.,  0.,  0.,  0.,  0.,  0.],\n",
       "        [ 0.,  0.,  0.,  0.,  0.,  0.],\n",
       "        [ 0.,  0.,  0.,  0.,  0.,  0.],\n",
       "        [ 0.,  0.,  0.,  0.,  0.,  0.],\n",
       "        [ 0.,  0.,  0.,  0.,  0.,  0.]]),\n",
       " array([[ 0.,  0.,  0.,  0.,  0.,  0.],\n",
       "        [ 0.,  0.,  0.,  0.,  0.,  0.],\n",
       "        [ 0.,  0.,  0.,  0.,  0.,  0.],\n",
       "        [ 0.,  0.,  0.,  0.,  0.,  0.],\n",
       "        [ 0.,  0.,  0.,  0.,  0.,  0.],\n",
       "        [ 0.,  0.,  0.,  0.,  0.,  0.]]))"
      ]
     },
     "execution_count": 4,
     "metadata": {},
     "output_type": "execute_result"
    }
   ],
   "source": [
    "Seq1 = 'TCATA'\n",
    "Seq2 = 'TCCTA'\n",
    "\n",
    "D = np.zeros( (len(Seq1)+1, len(Seq2)+1 ) )\n",
    "T = np.zeros( (len(Seq1)+1, len(Seq2)+1 ) )\n",
    "D, T"
   ]
  },
  {
   "cell_type": "code",
   "execution_count": 11,
   "metadata": {},
   "outputs": [],
   "source": [
    "for i in range(1, D.shape[0] ):\n",
    "    for j in range(1, D.shape[1] ):        \n",
    "        if Seq1[i-1] == Seq2[j-1]:\n",
    "            sij = 1\n",
    "        else:\n",
    "            sij = 0\n",
    "        D[i, j] = np.max( [ D[i-1, j-1] + sij , D[i-1, j]  , D[i, j-1] ] )\n",
    "        T[i, j] = np.argmax( [ D[i-1, j-1] + sij , D[i-1, j]  , D[i, j-1] ] ) \n",
    "        # In T[i, j] cell 0: diagonal, 1: up, 2: left"
   ]
  },
  {
   "cell_type": "code",
   "execution_count": 12,
   "metadata": {},
   "outputs": [
    {
     "name": "stdout",
     "output_type": "stream",
     "text": [
      "Scroing Matrix...\n",
      "[[ 0.  0.  0.  0.  0.  0.]\n",
      " [ 0.  1.  1.  1.  1.  1.]\n",
      " [ 0.  1.  2.  2.  2.  2.]\n",
      " [ 0.  1.  2.  2.  2.  3.]\n",
      " [ 0.  1.  2.  2.  3.  3.]\n",
      " [ 0.  1.  2.  2.  3.  4.]]\n",
      "Track Back Matrix...\n",
      "[[ 0.  0.  0.  0.  0.  0.]\n",
      " [ 0.  0.  2.  2.  0.  2.]\n",
      " [ 0.  1.  0.  0.  2.  2.]\n",
      " [ 0.  1.  1.  0.  0.  0.]\n",
      " [ 0.  0.  1.  0.  0.  1.]\n",
      " [ 0.  1.  1.  0.  1.  0.]]\n"
     ]
    }
   ],
   "source": [
    "print(\"Scroing Matrix...\")\n",
    "print(D)\n",
    "print(\"Track Back Matrix...\")\n",
    "print(T)"
   ]
  },
  {
   "cell_type": "code",
   "execution_count": 10,
   "metadata": {},
   "outputs": [
    {
     "name": "stdout",
     "output_type": "stream",
     "text": [
      "Scroing Matrix...\n",
      "[[ 0.  0.  0.  0.  0.  0.]\n",
      " [ 0.  1.  1.  1.  1.  1.]\n",
      " [ 0.  1.  2.  2.  2.  2.]\n",
      " [ 0.  1.  2.  2.  2.  3.]\n",
      " [ 0.  1.  2.  2.  3.  3.]\n",
      " [ 0.  1.  2.  2.  3.  4.]]\n",
      "Track Back Matrix...\n",
      "[[ 0.  0.  0.  0.  0.  0.]\n",
      " [ 0.  0.  2.  2.  0.  2.]\n",
      " [ 0.  1.  0.  0.  2.  2.]\n",
      " [ 0.  1.  1.  0.  0.  0.]\n",
      " [ 0.  0.  1.  0.  0.  1.]\n",
      " [ 0.  1.  1.  0.  1.  0.]]\n"
     ]
    },
    {
     "data": {
      "text/plain": [
       "('TCATA', 'TCCTA', 4.0)"
      ]
     },
     "execution_count": 10,
     "metadata": {},
     "output_type": "execute_result"
    }
   ],
   "source": [
    "# Tracing with Trace Back Matrix\n",
    "i = T.shape[0] - 1\n",
    "j = T.shape[1] - 1\n",
    "S1 = ''\n",
    "S2 = ''\n",
    "print(\"Scroing Matrix...\")\n",
    "print(D)\n",
    "print(\"Track Back Matrix...\")\n",
    "print(T)\n",
    "\n",
    "# Tracing with Trace Back Matrix\n",
    "i = T.shape[0] - 1\n",
    "j = T.shape[1] - 1\n",
    "S1 = ''\n",
    "S2 = ''\n",
    "while i != 0 or j != 0:\n",
    "    \n",
    "    if T[i,j] == 0:\n",
    "\n",
    "        S1 = Seq1[i-1] + S1\n",
    "        S2 = Seq2[j-1] + S2\n",
    "        i = i-1\n",
    "        j = j-1\n",
    "    elif T[i, j] == 1: # up\n",
    "        S1 = Seq1[i-1] + S1\n",
    "        S2 = ' ' + S2\n",
    "        i = i-1        \n",
    "    elif T[i, j] == 2: # left\n",
    "        S1 = ' '+ S1\n",
    "        S2 = Seq2[j-1] + S2\n",
    "        j = j-1        \n",
    "S1, S2, D[len(Seq1),len(Seq2)]\n"
   ]
  }
 ],
 "metadata": {
  "kernelspec": {
   "display_name": "Python [default]",
   "language": "python",
   "name": "python3"
  },
  "language_info": {
   "codemirror_mode": {
    "name": "ipython",
    "version": 3
   },
   "file_extension": ".py",
   "mimetype": "text/x-python",
   "name": "python",
   "nbconvert_exporter": "python",
   "pygments_lexer": "ipython3",
   "version": "3.6.3"
  }
 },
 "nbformat": 4,
 "nbformat_minor": 2
}
