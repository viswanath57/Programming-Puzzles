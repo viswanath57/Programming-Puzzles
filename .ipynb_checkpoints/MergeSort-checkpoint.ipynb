{
 "cells": [
  {
   "cell_type": "code",
   "execution_count": 1,
   "metadata": {},
   "outputs": [],
   "source": [
    "import random\n",
    "import math\n",
    "from copy import deepcopy"
   ]
  },
  {
   "cell_type": "code",
   "execution_count": 32,
   "metadata": {},
   "outputs": [],
   "source": []
  },
  {
   "cell_type": "code",
   "execution_count": 33,
   "metadata": {},
   "outputs": [],
   "source": [
    "def merge(le, ri):\n",
    "    global noOfComparisions\n",
    "    le.append(math.inf) \n",
    "    ri.append(math.inf)\n",
    "    mergedlist = []\n",
    "    i = 0\n",
    "    j = 0\n",
    "    for idx in range(len(le)+len(ri)-2):\n",
    "        noOfComparisions += 1\n",
    "        if le[i] <= ri[j]:\n",
    "            mergedlist.append(le[i])\n",
    "            i = i + 1                        \n",
    "        else:\n",
    "            mergedlist.append(ri[j])\n",
    "            j = j + 1\n",
    "    return mergedlist"
   ]
  },
  {
   "cell_type": "code",
   "execution_count": 34,
   "metadata": {},
   "outputs": [],
   "source": [
    "\n",
    "def mergesort(alist):\n",
    "    if len(alist) == 1:\n",
    "        return(alist)\n",
    "    lol = len(alist)\n",
    "    sidx = int(lol / 2)\n",
    "    le = mergesort( deepcopy(alist[0:sidx]) )\n",
    "    ri = mergesort( deepcopy(alist[sidx:]))\n",
    "    return merge(deepcopy(le), deepcopy(ri))"
   ]
  },
  {
   "cell_type": "code",
   "execution_count": 70,
   "metadata": {},
   "outputs": [
    {
     "data": {
      "text/plain": [
       "(9976, 9965.784284662088)"
      ]
     },
     "execution_count": 70,
     "metadata": {},
     "output_type": "execute_result"
    }
   ],
   "source": [
    "noOfComparisions = 0 \n",
    "alist = []\n",
    "noOfNumbers = 1000\n",
    "\n",
    "for idx in range(noOfNumbers):\n",
    "    alist.append( random.randint(1,1000) )\n",
    "slist = mergesort(alist)\n",
    "noOfComparisions, noOfNumbers * math.log(noOfNumbers,2)"
   ]
  }
 ],
 "metadata": {
  "kernelspec": {
   "display_name": "Python [default]",
   "language": "python",
   "name": "python3"
  },
  "language_info": {
   "codemirror_mode": {
    "name": "ipython",
    "version": 3
   },
   "file_extension": ".py",
   "mimetype": "text/x-python",
   "name": "python",
   "nbconvert_exporter": "python",
   "pygments_lexer": "ipython3",
   "version": "3.6.3"
  }
 },
 "nbformat": 4,
 "nbformat_minor": 2
}
