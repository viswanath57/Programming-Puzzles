{
 "cells": [
  {
   "cell_type": "markdown",
   "metadata": {},
   "source": [
    "##### Needleman Wunsch Algorithm: A Global Sequence Algorithm\n",
    "\n",
    "Introduction to algorithm:-\n",
    "\n",
    "- https://www.youtube.com/watch?v=aD4Cc4L3qW0\n"
   ]
  },
  {
   "cell_type": "code",
   "execution_count": 2,
   "metadata": {},
   "outputs": [],
   "source": [
    "import numpy as np\n",
    "import pprint"
   ]
  },
  {
   "cell_type": "code",
   "execution_count": 50,
   "metadata": {},
   "outputs": [],
   "source": [
    "Seq1 = 'TCATA'\n",
    "Seq2 = 'TCCTA'\n",
    "\n",
    "match     = +5.0\n",
    "mismatch  = -1.0\n",
    "gap       = -2.0\n"
   ]
  },
  {
   "cell_type": "code",
   "execution_count": 71,
   "metadata": {},
   "outputs": [
    {
     "data": {
      "text/plain": [
       "array([[  0.,  -2.,  -4.,  -6.,  -8., -10.],\n",
       "       [ -2.,   0.,   0.,   0.,   0.,   0.],\n",
       "       [ -4.,   0.,   0.,   0.,   0.,   0.],\n",
       "       [ -6.,   0.,   0.,   0.,   0.,   0.],\n",
       "       [ -8.,   0.,   0.,   0.,   0.,   0.],\n",
       "       [-10.,   0.,   0.,   0.,   0.,   0.]])"
      ]
     },
     "execution_count": 71,
     "metadata": {},
     "output_type": "execute_result"
    }
   ],
   "source": [
    "D = np.zeros( (len(Seq1)+1, len(Seq2)+1 ) )\n",
    "T = np.zeros( (len(Seq1)+1, len(Seq2)+1 ) )\n",
    "D[0,0] = 0\n",
    "\n",
    "penality = 0\n",
    "for i in range(1,D.shape[0]):\n",
    "    penality = penality + gap\n",
    "    D[i, 0]  = penality\n",
    "    D[0, i]  = penality\n",
    "D"
   ]
  },
  {
   "cell_type": "code",
   "execution_count": 78,
   "metadata": {},
   "outputs": [],
   "source": [
    "for i in range(1, D.shape[0] ):\n",
    "    for j in range(1, D.shape[1] ):        \n",
    "        if Seq1[i-1] == Seq2[j-1]:\n",
    "            sij = match\n",
    "        else:\n",
    "            sij = mismatch\n",
    "        D[i, j] = np.max( [ D[i-1, j-1] + sij , D[i-1, j] + gap , D[i, j-1] + gap] )\n",
    "        T[i, j] = np.argmax( [ D[i-1, j-1] + sij , D[i-1, j] + gap , D[i, j-1] + gap] ) \n",
    "        # In T[i, j] cell 0: diagonal, 1: up, 2: left"
   ]
  },
  {
   "cell_type": "code",
   "execution_count": 79,
   "metadata": {},
   "outputs": [
    {
     "name": "stdout",
     "output_type": "stream",
     "text": [
      "Scoring Matrix...\n",
      "[[  0.  -2.  -4.  -6.  -8. -10.]\n",
      " [ -2.   5.   3.   1.  -1.  -3.]\n",
      " [ -4.   3.  10.   8.   6.   4.]\n",
      " [ -6.   1.   8.   9.   7.  11.]\n",
      " [ -8.  -1.   6.   7.  14.  12.]\n",
      " [-10.  -3.   4.   5.  12.  19.]]\n"
     ]
    }
   ],
   "source": [
    "print(\"Scoring Matrix...\")\n",
    "print(D)"
   ]
  },
  {
   "cell_type": "code",
   "execution_count": 81,
   "metadata": {},
   "outputs": [
    {
     "name": "stdout",
     "output_type": "stream",
     "text": [
      "Trace Back Matrix...\n",
      "[[ 0.  0.  0.  0.  0.  0.]\n",
      " [ 0.  0.  2.  2.  0.  2.]\n",
      " [ 0.  1.  0.  0.  2.  2.]\n",
      " [ 0.  1.  1.  0.  0.  0.]\n",
      " [ 0.  0.  1.  0.  0.  2.]\n",
      " [ 0.  1.  1.  0.  1.  0.]]\n"
     ]
    }
   ],
   "source": [
    "print(\"Trace Back Matrix...\")\n",
    "print(T)"
   ]
  },
  {
   "cell_type": "code",
   "execution_count": 112,
   "metadata": {},
   "outputs": [
    {
     "name": "stdout",
     "output_type": "stream",
     "text": [
      "19.0\n",
      "14.0\n",
      "9.0\n",
      "10.0\n",
      "5.0\n"
     ]
    },
    {
     "data": {
      "text/plain": [
       "('TCATA', 'TCCTA', 19.0)"
      ]
     },
     "execution_count": 112,
     "metadata": {},
     "output_type": "execute_result"
    }
   ],
   "source": [
    "# Tracing with Trace Back Matrix\n",
    "i = T.shape[0] - 1\n",
    "j = T.shape[1] - 1\n",
    "S1 = ''\n",
    "S2 = ''\n",
    "while i != 0 or j != 0:\n",
    "    if T[i,j] == 0:\n",
    "        print(D[i,j])\n",
    "        S1 = Seq1[i-1] + S1\n",
    "        S2 = Seq2[i-1] + S2\n",
    "        i = i-1\n",
    "        j = j-1\n",
    "        \n",
    "        \n",
    "S1, S2, D[len(Seq1),len(Seq2)]"
   ]
  },
  {
   "cell_type": "code",
   "execution_count": 5,
   "metadata": {},
   "outputs": [
    {
     "data": {
      "text/plain": [
       "(array([[  0.,  -2.,  -4.,  -6.,  -8.,   0.],\n",
       "        [ -2.,   5.,   3.,   1.,  -1.,  -2.],\n",
       "        [ -4.,   3.,  10.,   8.,   6.,   4.],\n",
       "        [ -6.,   1.,   8.,   9.,  13.,  11.],\n",
       "        [ -8.,  -1.,   6.,   7.,  11.,  18.]]),\n",
       " array([[ 0.,  0.,  0.,  0.,  0.,  0.],\n",
       "        [ 0.,  0.,  2.,  2.,  0.,  1.],\n",
       "        [ 0.,  1.,  0.,  0.,  2.,  2.],\n",
       "        [ 0.,  0.,  1.,  0.,  0.,  2.],\n",
       "        [ 0.,  1.,  1.,  0.,  1.,  0.]]))"
      ]
     },
     "execution_count": 5,
     "metadata": {},
     "output_type": "execute_result"
    }
   ],
   "source": [
    "D, T"
   ]
  },
  {
   "cell_type": "code",
   "execution_count": 18,
   "metadata": {},
   "outputs": [
    {
     "name": "stdout",
     "output_type": "stream",
     "text": [
      "Scroing Matrix...\n",
      "[[  0.  -2.  -4.  -6.  -8.   0.]\n",
      " [ -2.   5.   3.   1.  -1.  -2.]\n",
      " [ -4.   3.  10.   8.   6.   4.]\n",
      " [ -6.   1.   8.   9.  13.  11.]\n",
      " [ -8.  -1.   6.   7.  11.  18.]]\n",
      "Track Back Matrix...\n",
      "[[ 0.  0.  0.  0.  0.  0.]\n",
      " [ 0.  0.  2.  2.  0.  1.]\n",
      " [ 0.  1.  0.  0.  2.  2.]\n",
      " [ 0.  0.  1.  0.  0.  2.]\n",
      " [ 0.  1.  1.  0.  1.  0.]]\n"
     ]
    },
    {
     "data": {
      "text/plain": [
       "('T CTA', 'TCCTA', 18.0)"
      ]
     },
     "execution_count": 18,
     "metadata": {},
     "output_type": "execute_result"
    }
   ],
   "source": [
    "Seq1 = 'TCTA'\n",
    "Seq2 = 'TCCTA'\n",
    "\n",
    "match     = +5.0\n",
    "mismatch  = -1.0\n",
    "gap       = -2.0\n",
    "\n",
    "D = np.zeros( (len(Seq1)+1, len(Seq2)+1 ) )\n",
    "T = np.zeros( (len(Seq1)+1, len(Seq2)+1 ) )\n",
    "D[0,0] = 0\n",
    "\n",
    "penality = 0\n",
    "for i in range(1,D.shape[0]):\n",
    "    penality = penality + gap\n",
    "    D[i, 0]  = penality\n",
    "    D[0, i]  = penality\n",
    "\n",
    "for i in range(1, D.shape[0] ):\n",
    "    for j in range(1, D.shape[1] ):        \n",
    "        if Seq1[i-1] == Seq2[j-1]:\n",
    "            sij = match\n",
    "        else:\n",
    "            sij = mismatch\n",
    "        D[i, j] = np.max( [ D[i-1, j-1] + sij , D[i-1, j] + gap , D[i, j-1] + gap] )\n",
    "        T[i, j] = np.argmax( [ D[i-1, j-1] + sij , D[i-1, j] + gap , D[i, j-1] + gap] ) \n",
    "        # In T[i, j] cell 0: diagonal, 1: up, 2: left\n",
    "\n",
    "print(\"Scroing Matrix...\")\n",
    "print(D)\n",
    "print(\"Track Back Matrix...\")\n",
    "print(T)\n",
    "\n",
    "# Tracing with Trace Back Matrix\n",
    "i = T.shape[0] - 1\n",
    "j = T.shape[1] - 1\n",
    "S1 = ''\n",
    "S2 = ''\n",
    "while i != 0 or j != 0:\n",
    "    \n",
    "    if T[i,j] == 0:\n",
    "#         print(D[i,j])\n",
    "        S1 = Seq1[i-1] + S1\n",
    "        S2 = Seq2[j-1] + S2\n",
    "        i = i-1\n",
    "        j = j-1\n",
    "    elif T[i, j] == 1: # up\n",
    "#         print('up')\n",
    "#         print(D[i,j])\n",
    "        S1 = Seq1[i-1] + S1\n",
    "        S2 = ' ' + S2\n",
    "        i = i-1        \n",
    "    elif T[i, j] == 2: # left\n",
    "#         print('left')\n",
    "#         print(D[i,j])\n",
    "        S1 = ' '+ S1\n",
    "        S2 = Seq2[j-1] + S2\n",
    "        j = j-1        \n",
    "S1, S2, D[len(Seq1),len(Seq2)]\n"
   ]
  },
  {
   "cell_type": "code",
   "execution_count": 17,
   "metadata": {},
   "outputs": [
    {
     "name": "stdout",
     "output_type": "stream",
     "text": [
      "Scroing Matrix...\n",
      "[[  0.  -2.  -4.  -6.  -8.]\n",
      " [ -2.   5.   3.   1.  -1.]\n",
      " [ -4.   3.  10.   8.   6.]\n",
      " [ -6.   1.   8.   9.   7.]\n",
      " [ -8.  -1.   6.   7.  14.]]\n",
      "Track Back Matrix...\n",
      "[[ 0.  0.  0.  0.  0.]\n",
      " [ 0.  0.  2.  2.  2.]\n",
      " [ 0.  1.  0.  0.  2.]\n",
      " [ 0.  0.  1.  0.  0.]\n",
      " [ 0.  1.  1.  0.  0.]]\n"
     ]
    },
    {
     "data": {
      "text/plain": [
       "('TCTA', 'TCCA', 14.0)"
      ]
     },
     "execution_count": 17,
     "metadata": {},
     "output_type": "execute_result"
    }
   ],
   "source": [
    "Seq1 = 'TCTA'\n",
    "Seq2 = 'TCCA'\n",
    "\n",
    "match     = +5.0\n",
    "mismatch  = -1.0\n",
    "gap       = -2.0\n",
    "\n",
    "D = np.zeros( (len(Seq1)+1, len(Seq2)+1 ) )\n",
    "T = np.zeros( (len(Seq1)+1, len(Seq2)+1 ) )\n",
    "D[0,0] = 0\n",
    "\n",
    "penality = 0\n",
    "for i in range(1,D.shape[0]):\n",
    "    penality = penality + gap\n",
    "    D[i, 0]  = penality\n",
    "    D[0, i]  = penality\n",
    "\n",
    "for i in range(1, D.shape[0] ):\n",
    "    for j in range(1, D.shape[1] ):        \n",
    "        if Seq1[i-1] == Seq2[j-1]:\n",
    "            sij = match\n",
    "        else:\n",
    "            sij = mismatch\n",
    "        D[i, j] = np.max( [ D[i-1, j-1] + sij , D[i-1, j] + gap , D[i, j-1] + gap] )\n",
    "        T[i, j] = np.argmax( [ D[i-1, j-1] + sij , D[i-1, j] + gap , D[i, j-1] + gap] ) \n",
    "        # In T[i, j] cell 0: diagonal, 1: up, 2: left\n",
    "print(\"Scroing Matrix...\")\n",
    "print(D)\n",
    "print(\"Track Back Matrix...\")\n",
    "print(T)\n",
    "# Tracing with Trace Back Matrix\n",
    "i = T.shape[0] - 1\n",
    "j = T.shape[1] - 1\n",
    "S1 = ''\n",
    "S2 = ''\n",
    "while i != 0 or j != 0:\n",
    "#     print(i,j)\n",
    "    if T[i,j] == 0:\n",
    "        S1 = Seq1[i-1] + S1\n",
    "        S2 = Seq2[j-1] + S2\n",
    "        i = i-1\n",
    "        j = j-1\n",
    "    elif T[i, j] == 1: # up\n",
    "        S1 = Seq1[i-1] + S1\n",
    "        S2 = ' ' + S2\n",
    "        i = i-1        \n",
    "    elif T[i, j] == 2: # left\n",
    "        S1 = ' '+ S1\n",
    "        S2 = Seq2[j-1] + S2\n",
    "        j = j-1        \n",
    "S1, S2, D[len(Seq1),len(Seq2)]\n"
   ]
  }
 ],
 "metadata": {
  "kernelspec": {
   "display_name": "Python [default]",
   "language": "python",
   "name": "python3"
  },
  "language_info": {
   "codemirror_mode": {
    "name": "ipython",
    "version": 3
   },
   "file_extension": ".py",
   "mimetype": "text/x-python",
   "name": "python",
   "nbconvert_exporter": "python",
   "pygments_lexer": "ipython3",
   "version": "3.6.3"
  }
 },
 "nbformat": 4,
 "nbformat_minor": 2
}
