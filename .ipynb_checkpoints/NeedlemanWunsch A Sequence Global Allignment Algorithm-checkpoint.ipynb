{
 "cells": [
  {
   "cell_type": "code",
   "execution_count": 2,
   "metadata": {},
   "outputs": [],
   "source": [
    "Seq1 = 'TCATA'\n",
    "Seq2 = 'TCCTA'\n",
    "\n",
    "match     = +5\n",
    "mismatch  = -1\n",
    "gap       = -2\n"
   ]
  },
  {
   "cell_type": "code",
   "execution_count": 30,
   "metadata": {},
   "outputs": [
    {
     "data": {
      "text/plain": [
       "4.0"
      ]
     },
     "execution_count": 30,
     "metadata": {},
     "output_type": "execute_result"
    }
   ],
   "source": [
    "np.max([3., 4.])"
   ]
  },
  {
   "cell_type": "code",
   "execution_count": 29,
   "metadata": {},
   "outputs": [
    {
     "name": "stdout",
     "output_type": "stream",
     "text": [
      "[[ nan  -2.  -4.  -6.  -8. -10.]\n",
      " [ -2.   0.   0.   0.   0.   0.]\n",
      " [ -4.   0.   0.   0.   0.   0.]\n",
      " [ -6.   0.   0.   0.   0.   0.]\n",
      " [ -8.   0.   0.   0.   0.   0.]\n",
      " [-10.   0.   0.   0.   0.   0.]]\n",
      "[[ nan  -2.  -4.  -6.  -8. -10.]\n",
      " [ -2.   2.   2.   2.   2.   2.]\n",
      " [ -4.   4.   4.   4.   4.   4.]\n",
      " [ -6.   6.   6.   6.   6.   6.]\n",
      " [ -8.   8.   8.   8.   8.   8.]\n",
      " [-10.  10.  10.  10.  10.  10.]]\n"
     ]
    }
   ],
   "source": [
    "import numpy as np\n",
    "D = np.zeros( (len(Seq1)+1, len(Seq2)+1 ) )\n",
    "D[0,0] = None\n",
    "\n",
    "penality = 0\n",
    "for i in range(1,D.shape[0]):\n",
    "    penality = penality + gap\n",
    "    D[i, 0]  = penality\n",
    "    D[0, i]  = penality\n",
    "    \n",
    "\n",
    "print(D)\n",
    "for i in range(1, D.shape[0] ):\n",
    "    for j in range(1, D.shape[1] ):\n",
    "        np.max( [ D[i-1, j-1] + sij , ] )\n",
    "print(D)\n"
   ]
  }
 ],
 "metadata": {
  "kernelspec": {
   "display_name": "Python [default]",
   "language": "python",
   "name": "python3"
  },
  "language_info": {
   "codemirror_mode": {
    "name": "ipython",
    "version": 3
   },
   "file_extension": ".py",
   "mimetype": "text/x-python",
   "name": "python",
   "nbconvert_exporter": "python",
   "pygments_lexer": "ipython3",
   "version": "3.6.3"
  }
 },
 "nbformat": 4,
 "nbformat_minor": 2
}
