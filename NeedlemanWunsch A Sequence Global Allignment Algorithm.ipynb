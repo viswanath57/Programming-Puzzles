{
 "cells": [
  {
   "cell_type": "markdown",
   "metadata": {},
   "source": [
    "##### Needleman Wunsch Algorithm: A Global Sequence Alignment Algorithm\n",
    "\n",
    "Introduction to algorithm:-\n",
    "\n",
    "- https://www.youtube.com/watch?v=aD4Cc4L3qW0\n",
    "\n",
    "The needleman-wunsch algorithm is appropriate for finding the best alignment of two sequences which are \n",
    "1) of the similar length\n",
    "2) Similar across their entire lengths\n"
   ]
  },
  {
   "cell_type": "code",
   "execution_count": 68,
   "metadata": {},
   "outputs": [],
   "source": [
    "import numpy as np\n",
    "import pprint\n",
    "import pandas as pd"
   ]
  },
  {
   "cell_type": "code",
   "execution_count": 70,
   "metadata": {},
   "outputs": [],
   "source": [
    "Seq1 = 'TCATA'\n",
    "Seq2 = 'TCCTA'\n",
    "\n",
    "match     = +5.0\n",
    "mismatch  = -1.0\n",
    "gap       = -2.0\n"
   ]
  },
  {
   "cell_type": "code",
   "execution_count": 79,
   "metadata": {},
   "outputs": [],
   "source": [
    "D = np.zeros( (len(Seq1)+1, len(Seq2)+1 ) )\n",
    "T = np.zeros( (len(Seq1)+1, len(Seq2)+1 ) )\n",
    "D[0,0] = 0\n",
    "\n",
    "penality = 0\n",
    "for i in range(1,D.shape[0]):\n",
    "    penality = penality + gap\n",
    "    D[i, 0]  = penality\n",
    "    D[0, i]  = penality\n"
   ]
  },
  {
   "cell_type": "code",
   "execution_count": 80,
   "metadata": {},
   "outputs": [],
   "source": [
    "for i in range(1, D.shape[0] ):\n",
    "    for j in range(1, D.shape[1] ):        \n",
    "        if Seq1[i-1] == Seq2[j-1]:\n",
    "            sij = match\n",
    "        else:\n",
    "            sij = mismatch\n",
    "        D[i, j] = np.max( [ D[i-1, j-1] + sij , D[i-1, j] + gap , D[i, j-1] + gap] )\n",
    "        T[i, j] = np.argmax( [ D[i-1, j-1] + sij , D[i-1, j] + gap , D[i, j-1] + gap] ) \n",
    "        # In T[i, j] cell 0: diagonal, 1: up, 2: left"
   ]
  },
  {
   "cell_type": "code",
   "execution_count": 81,
   "metadata": {},
   "outputs": [
    {
     "name": "stdout",
     "output_type": "stream",
     "text": [
      "Scoring Matrix...\n",
      "           T     C    C     T     A Seq1 Vs Seq2\n",
      "0   0.0 -2.0  -4.0 -6.0  -8.0 -10.0             \n",
      "1  -2.0  5.0   3.0  1.0  -1.0  -3.0            T\n",
      "2  -4.0  3.0  10.0  8.0   6.0   4.0            C\n",
      "3  -6.0  1.0   8.0  9.0   7.0  11.0            A\n",
      "4  -8.0 -1.0   6.0  7.0  14.0  12.0            T\n",
      "5 -10.0 -3.0   4.0  5.0  12.0  19.0            A\n",
      "Trace Back Matrix\n",
      "[[ 0.  0.  0.  0.  0.  0.]\n",
      " [ 0.  0.  2.  2.  0.  2.]\n",
      " [ 0.  1.  0.  0.  2.  2.]\n",
      " [ 0.  1.  1.  0.  0.  0.]\n",
      " [ 0.  0.  1.  0.  0.  2.]\n",
      " [ 0.  1.  1.  0.  1.  0.]]\n"
     ]
    }
   ],
   "source": [
    "\n",
    "D = pd.DataFrame(D)\n",
    "D.columns = [' '] + [ele for ele in Seq2]\n",
    "D['Seq1 Vs Seq2'] = [' '] + [ele for ele in Seq1]\n",
    "D.set_index('Seq1 Vs Seq2')\n",
    "\n",
    "print(\"Scoring Matrix...\")\n",
    "print(D)\n",
    "print('Trace Back Matrix')\n",
    "print(T)"
   ]
  },
  {
   "cell_type": "code",
   "execution_count": 27,
   "metadata": {},
   "outputs": [
    {
     "name": "stdout",
     "output_type": "stream",
     "text": [
      "Scroing Matrix...\n",
      "[[  0.  -2.  -4.  -6.  -8. -10.]\n",
      " [ -2.   5.   3.   1.  -1.  -3.]\n",
      " [ -4.   3.  10.   8.   6.   4.]\n",
      " [ -6.   1.   8.   9.   7.  11.]\n",
      " [ -8.  -1.   6.   7.  14.  12.]\n",
      " [-10.  -3.   4.   5.  12.  19.]]\n",
      "Track Back Matrix...\n",
      "[[ 0.  0.  0.  0.  0.  0.]\n",
      " [ 0.  0.  2.  2.  0.  2.]\n",
      " [ 0.  1.  0.  0.  2.  2.]\n",
      " [ 0.  1.  1.  0.  0.  0.]\n",
      " [ 0.  0.  1.  0.  0.  2.]\n",
      " [ 0.  1.  1.  0.  1.  0.]]\n"
     ]
    },
    {
     "data": {
      "text/plain": [
       "('TCATA', 'TCCTA', 19.0)"
      ]
     },
     "execution_count": 27,
     "metadata": {},
     "output_type": "execute_result"
    }
   ],
   "source": [
    "# Tracing with Trace Back Matrix\n",
    "i = T.shape[0] - 1\n",
    "j = T.shape[1] - 1\n",
    "S1 = ''\n",
    "S2 = ''\n",
    "print(\"Scroing Matrix...\")\n",
    "print(D)\n",
    "print(\"Track Back Matrix...\")\n",
    "print(T)\n",
    "\n",
    "# Tracing with Trace Back Matrix\n",
    "i = T.shape[0] - 1\n",
    "j = T.shape[1] - 1\n",
    "S1 = ''\n",
    "S2 = ''\n",
    "while i != 0 or j != 0:\n",
    "    \n",
    "    if T[i,j] == 0:\n",
    "#         print(D[i,j])\n",
    "        S1 = Seq1[i-1] + S1\n",
    "        S2 = Seq2[j-1] + S2\n",
    "        i = i-1\n",
    "        j = j-1\n",
    "    elif T[i, j] == 1: # up\n",
    "#         print('up')\n",
    "#         print(D[i,j])\n",
    "        S1 = Seq1[i-1] + S1\n",
    "        S2 = ' ' + S2\n",
    "        i = i-1        \n",
    "    elif T[i, j] == 2: # left\n",
    "#         print('left')\n",
    "#         print(D[i,j])\n",
    "        S1 = ' '+ S1\n",
    "        S2 = Seq2[j-1] + S2\n",
    "        j = j-1        \n",
    "S1, S2, D[len(Seq1),len(Seq2)]\n",
    "\n",
    "        \n",
    "S1, S2, D[len(Seq1),len(Seq2)]"
   ]
  },
  {
   "cell_type": "code",
   "execution_count": 18,
   "metadata": {},
   "outputs": [
    {
     "name": "stdout",
     "output_type": "stream",
     "text": [
      "Scroing Matrix...\n",
      "[[  0.  -2.  -4.  -6.  -8.   0.]\n",
      " [ -2.   5.   3.   1.  -1.  -2.]\n",
      " [ -4.   3.  10.   8.   6.   4.]\n",
      " [ -6.   1.   8.   9.  13.  11.]\n",
      " [ -8.  -1.   6.   7.  11.  18.]]\n",
      "Track Back Matrix...\n",
      "[[ 0.  0.  0.  0.  0.  0.]\n",
      " [ 0.  0.  2.  2.  0.  1.]\n",
      " [ 0.  1.  0.  0.  2.  2.]\n",
      " [ 0.  0.  1.  0.  0.  2.]\n",
      " [ 0.  1.  1.  0.  1.  0.]]\n"
     ]
    },
    {
     "data": {
      "text/plain": [
       "('T CTA', 'TCCTA', 18.0)"
      ]
     },
     "execution_count": 18,
     "metadata": {},
     "output_type": "execute_result"
    }
   ],
   "source": [
    "Seq1 = 'TCTA'\n",
    "Seq2 = 'TCCTA'\n",
    "\n",
    "match     = +5.0\n",
    "mismatch  = -1.0\n",
    "gap       = -2.0\n",
    "\n",
    "D = np.zeros( (len(Seq1)+1, len(Seq2)+1 ) )\n",
    "T = np.zeros( (len(Seq1)+1, len(Seq2)+1 ) )\n",
    "D[0,0] = 0\n",
    "\n",
    "penality = 0\n",
    "for i in range(1,D.shape[0]):\n",
    "    penality = penality + gap\n",
    "    D[i, 0]  = penality\n",
    "    D[0, i]  = penality\n",
    "\n",
    "for i in range(1, D.shape[0] ):\n",
    "    for j in range(1, D.shape[1] ):        \n",
    "        if Seq1[i-1] == Seq2[j-1]:\n",
    "            sij = match\n",
    "        else:\n",
    "            sij = mismatch\n",
    "        D[i, j] = np.max( [ D[i-1, j-1] + sij , D[i-1, j] + gap , D[i, j-1] + gap] )\n",
    "        T[i, j] = np.argmax( [ D[i-1, j-1] + sij , D[i-1, j] + gap , D[i, j-1] + gap] ) \n",
    "        # In T[i, j] cell 0: diagonal, 1: up, 2: left\n",
    "\n",
    "print(\"Scroing Matrix...\")\n",
    "print(D)\n",
    "print(\"Track Back Matrix...\")\n",
    "print(T)\n",
    "\n",
    "# Tracing with Trace Back Matrix\n",
    "i = T.shape[0] - 1\n",
    "j = T.shape[1] - 1\n",
    "S1 = ''\n",
    "S2 = ''\n",
    "while i != 0 or j != 0:\n",
    "    \n",
    "    if T[i,j] == 0:\n",
    "#         print(D[i,j])\n",
    "        S1 = Seq1[i-1] + S1\n",
    "        S2 = Seq2[j-1] + S2\n",
    "        i = i-1\n",
    "        j = j-1\n",
    "    elif T[i, j] == 1: # up\n",
    "#         print('up')\n",
    "#         print(D[i,j])\n",
    "        S1 = Seq1[i-1] + S1\n",
    "        S2 = ' ' + S2\n",
    "        i = i-1        \n",
    "    elif T[i, j] == 2: # left\n",
    "#         print('left')\n",
    "#         print(D[i,j])\n",
    "        S1 = ' '+ S1\n",
    "        S2 = Seq2[j-1] + S2\n",
    "        j = j-1        \n",
    "S1, S2, D[len(Seq1),len(Seq2)]\n"
   ]
  },
  {
   "cell_type": "code",
   "execution_count": 66,
   "metadata": {},
   "outputs": [
    {
     "name": "stdout",
     "output_type": "stream",
     "text": [
      "Scroing Matrix...\n",
      "[[  0.  -2.  -4.  -6.  -8.]\n",
      " [ -2.   5.   3.   1.  -1.]\n",
      " [ -4.   3.  10.   8.   6.]\n",
      " [ -6.   1.   8.   9.   7.]\n",
      " [ -8.  -1.   6.   7.  14.]]\n",
      "Track Back Matrix...\n",
      "[[ 0.  0.  0.  0.  0.]\n",
      " [ 0.  0.  2.  2.  2.]\n",
      " [ 0.  1.  0.  0.  2.]\n",
      " [ 0.  0.  1.  0.  0.]\n",
      " [ 0.  1.  1.  0.  0.]]\n"
     ]
    },
    {
     "data": {
      "text/plain": [
       "('TCTA', 'TCCA', 14.0)"
      ]
     },
     "execution_count": 66,
     "metadata": {},
     "output_type": "execute_result"
    }
   ],
   "source": [
    "Seq1 = 'TCTA'\n",
    "Seq2 = 'TCCA'\n",
    "\n",
    "match     = +5.0\n",
    "mismatch  = -1.0\n",
    "gap       = -2.0\n",
    "\n",
    "D = np.zeros( (len(Seq1)+1, len(Seq2)+1 ) )\n",
    "T = np.zeros( (len(Seq1)+1, len(Seq2)+1 ) )\n",
    "D[0,0] = 0\n",
    "\n",
    "penality = 0\n",
    "for i in range(1,D.shape[0]):\n",
    "    penality = penality + gap\n",
    "    D[i, 0]  = penality\n",
    "    D[0, i]  = penality\n",
    "\n",
    "for i in range(1, D.shape[0] ):\n",
    "    for j in range(1, D.shape[1] ):        \n",
    "        if Seq1[i-1] == Seq2[j-1]:\n",
    "            sij = match\n",
    "        else:\n",
    "            sij = mismatch\n",
    "        D[i, j] = np.max( [ D[i-1, j-1] + sij , D[i-1, j] + gap , D[i, j-1] + gap] )\n",
    "        T[i, j] = np.argmax( [ D[i-1, j-1] + sij , D[i-1, j] + gap , D[i, j-1] + gap] ) \n",
    "        # In T[i, j] cell 0: diagonal, 1: up, 2: left\n",
    "print(\"Scroing Matrix...\")\n",
    "print(D)\n",
    "print(\"Track Back Matrix...\")\n",
    "print(T)\n",
    "# Tracing with Trace Back Matrix\n",
    "i = T.shape[0] - 1\n",
    "j = T.shape[1] - 1\n",
    "S1 = ''\n",
    "S2 = ''\n",
    "while i != 0 or j != 0:\n",
    "#     print(i,j)\n",
    "    if T[i,j] == 0:\n",
    "        S1 = Seq1[i-1] + S1\n",
    "        S2 = Seq2[j-1] + S2\n",
    "        i = i-1\n",
    "        j = j-1\n",
    "    elif T[i, j] == 1: # up\n",
    "        S1 = Seq1[i-1] + S1\n",
    "        S2 = ' ' + S2\n",
    "        i = i-1        \n",
    "    elif T[i, j] == 2: # left\n",
    "        S1 = ' '+ S1\n",
    "        S2 = Seq2[j-1] + S2\n",
    "        j = j-1        \n",
    "S1, S2, D[len(Seq1),len(Seq2)]\n"
   ]
  },
  {
   "cell_type": "code",
   "execution_count": 67,
   "metadata": {},
   "outputs": [
    {
     "name": "stdout",
     "output_type": "stream",
     "text": [
      "[[  0.  -2.  -4.  -6.  -8.]\n",
      " [ -2.   5.   3.   1.  -1.]\n",
      " [ -4.   3.  10.   8.   6.]\n",
      " [ -6.   1.   8.   9.   7.]\n",
      " [ -8.  -1.   6.   7.  14.]] TCTA\n"
     ]
    },
    {
     "data": {
      "text/html": [
       "<div>\n",
       "<style>\n",
       "    .dataframe thead tr:only-child th {\n",
       "        text-align: right;\n",
       "    }\n",
       "\n",
       "    .dataframe thead th {\n",
       "        text-align: left;\n",
       "    }\n",
       "\n",
       "    .dataframe tbody tr th {\n",
       "        vertical-align: top;\n",
       "    }\n",
       "</style>\n",
       "<table border=\"1\" class=\"dataframe\">\n",
       "  <thead>\n",
       "    <tr style=\"text-align: right;\">\n",
       "      <th></th>\n",
       "      <th></th>\n",
       "      <th>T</th>\n",
       "      <th>C</th>\n",
       "      <th>C</th>\n",
       "      <th>A</th>\n",
       "    </tr>\n",
       "    <tr>\n",
       "      <th>Seq1 Vs Seq2</th>\n",
       "      <th></th>\n",
       "      <th></th>\n",
       "      <th></th>\n",
       "      <th></th>\n",
       "      <th></th>\n",
       "    </tr>\n",
       "  </thead>\n",
       "  <tbody>\n",
       "    <tr>\n",
       "      <th></th>\n",
       "      <td>0.0</td>\n",
       "      <td>-2.0</td>\n",
       "      <td>-4.0</td>\n",
       "      <td>-6.0</td>\n",
       "      <td>-8.0</td>\n",
       "    </tr>\n",
       "    <tr>\n",
       "      <th>T</th>\n",
       "      <td>-2.0</td>\n",
       "      <td>5.0</td>\n",
       "      <td>3.0</td>\n",
       "      <td>1.0</td>\n",
       "      <td>-1.0</td>\n",
       "    </tr>\n",
       "    <tr>\n",
       "      <th>C</th>\n",
       "      <td>-4.0</td>\n",
       "      <td>3.0</td>\n",
       "      <td>10.0</td>\n",
       "      <td>8.0</td>\n",
       "      <td>6.0</td>\n",
       "    </tr>\n",
       "    <tr>\n",
       "      <th>T</th>\n",
       "      <td>-6.0</td>\n",
       "      <td>1.0</td>\n",
       "      <td>8.0</td>\n",
       "      <td>9.0</td>\n",
       "      <td>7.0</td>\n",
       "    </tr>\n",
       "    <tr>\n",
       "      <th>A</th>\n",
       "      <td>-8.0</td>\n",
       "      <td>-1.0</td>\n",
       "      <td>6.0</td>\n",
       "      <td>7.0</td>\n",
       "      <td>14.0</td>\n",
       "    </tr>\n",
       "  </tbody>\n",
       "</table>\n",
       "</div>"
      ],
      "text/plain": [
       "                     T     C    C     A\n",
       "Seq1 Vs Seq2                           \n",
       "              0.0 -2.0  -4.0 -6.0  -8.0\n",
       "T            -2.0  5.0   3.0  1.0  -1.0\n",
       "C            -4.0  3.0  10.0  8.0   6.0\n",
       "T            -6.0  1.0   8.0  9.0   7.0\n",
       "A            -8.0 -1.0   6.0  7.0  14.0"
      ]
     },
     "execution_count": 67,
     "metadata": {},
     "output_type": "execute_result"
    }
   ],
   "source": [
    "print(D, Seq1)\n",
    "D = pd.DataFrame(D)\n",
    "D.columns = [' '] + [ele for ele in Seq2]\n",
    "D['Seq1 Vs Seq2'] = [' '] + [ele for ele in Seq1]\n",
    "D.set_index('Seq1 Vs Seq2')"
   ]
  }
 ],
 "metadata": {
  "kernelspec": {
   "display_name": "Python [default]",
   "language": "python",
   "name": "python3"
  },
  "language_info": {
   "codemirror_mode": {
    "name": "ipython",
    "version": 3
   },
   "file_extension": ".py",
   "mimetype": "text/x-python",
   "name": "python",
   "nbconvert_exporter": "python",
   "pygments_lexer": "ipython3",
   "version": "3.6.3"
  }
 },
 "nbformat": 4,
 "nbformat_minor": 2
}
