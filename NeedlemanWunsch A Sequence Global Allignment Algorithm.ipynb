{
 "cells": [
  {
   "cell_type": "code",
   "execution_count": 61,
   "metadata": {},
   "outputs": [],
   "source": [
    "import numpy as np\n",
    "import pprint"
   ]
  },
  {
   "cell_type": "code",
   "execution_count": 50,
   "metadata": {},
   "outputs": [],
   "source": [
    "Seq1 = 'TCATA'\n",
    "Seq2 = 'TCCTA'\n",
    "\n",
    "match     = +5.0\n",
    "mismatch  = -1.0\n",
    "gap       = -2.0\n"
   ]
  },
  {
   "cell_type": "code",
   "execution_count": 66,
   "metadata": {},
   "outputs": [],
   "source": [
    "D = np.zeros( (len(Seq1)+1, len(Seq2)+1 ) )\n",
    "D[0,0] = 0\n",
    "\n",
    "penality = 0\n",
    "for i in range(1,D.shape[0]):\n",
    "    penality = penality + gap\n",
    "    D[i, 0]  = penality\n",
    "    D[0, i]  = penality"
   ]
  },
  {
   "cell_type": "code",
   "execution_count": 65,
   "metadata": {},
   "outputs": [
    {
     "name": "stdout",
     "output_type": "stream",
     "text": [
      "[[  0.  -2.  -4.  -6.  -8. -10.]\n",
      " [ -2.   0.   0.   0.   0.   0.]\n",
      " [ -4.   0.   0.   0.   0.   0.]\n",
      " [ -6.   0.   0.   0.   0.   0.]\n",
      " [ -8.   0.   0.   0.   0.   0.]\n",
      " [-10.   0.   0.   0.   0.   0.]]\n",
      "[[  0.  -2.  -4.  -6.  -8. -10.]\n",
      " [ -2.   5.   3.   1.  -1.  -3.]\n",
      " [ -4.   3.  10.   8.   6.   4.]\n",
      " [ -6.   1.   8.   9.   7.  11.]\n",
      " [ -8.  -1.   6.   7.  14.  12.]\n",
      " [-10.  -3.   4.   5.  12.  19.]]\n"
     ]
    }
   ],
   "source": [
    "for i in range(1, D.shape[0] ):\n",
    "    for j in range(1, D.shape[1] ):        \n",
    "        if Seq1[i-1] == Seq2[j-1]:\n",
    "            sij = match\n",
    "        else:\n",
    "            sij = mismatch\n",
    "        D[i, j] = np.max( [ D[i-1, j-1] + sij , D[i-1, j] + gap , D[i, j-1] + gap] )\n",
    "print(D)\n"
   ]
  }
 ],
 "metadata": {
  "kernelspec": {
   "display_name": "Python [default]",
   "language": "python",
   "name": "python3"
  },
  "language_info": {
   "codemirror_mode": {
    "name": "ipython",
    "version": 3
   },
   "file_extension": ".py",
   "mimetype": "text/x-python",
   "name": "python",
   "nbconvert_exporter": "python",
   "pygments_lexer": "ipython3",
   "version": "3.6.3"
  }
 },
 "nbformat": 4,
 "nbformat_minor": 2
}
